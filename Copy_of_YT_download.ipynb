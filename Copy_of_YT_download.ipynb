{
  "nbformat": 4,
  "nbformat_minor": 0,
  "metadata": {
    "colab": {
      "provenance": [],
      "authorship_tag": "ABX9TyORhgrkPW13qwAmp8ad5qgs",
      "include_colab_link": true
    },
    "kernelspec": {
      "name": "python3",
      "display_name": "Python 3"
    },
    "language_info": {
      "name": "python"
    }
  },
  "cells": [
    {
      "cell_type": "markdown",
      "metadata": {
        "id": "view-in-github",
        "colab_type": "text"
      },
      "source": [
        "<a href=\"https://colab.research.google.com/github/fravitt/YouTube-data/blob/main/Copy_of_YT_download.ipynb\" target=\"_parent\"><img src=\"https://colab.research.google.com/assets/colab-badge.svg\" alt=\"Open In Colab\"/></a>"
      ]
    },
    {
      "cell_type": "code",
      "execution_count": null,
      "metadata": {
        "colab": {
          "base_uri": "https://localhost:8080/"
        },
        "id": "_t6PP6pZoOzI",
        "outputId": "a39cfcc5-aa21-4790-b379-0286b5a51921"
      },
      "outputs": [
        {
          "output_type": "stream",
          "name": "stdout",
          "text": [
            "Mounted at /content/drive\n"
          ]
        }
      ],
      "source": [
        "# Import necessary libraries\n",
        "from googleapiclient.discovery import build\n",
        "import pandas as pd\n",
        "from time import sleep\n",
        "import traceback\n",
        "import os\n",
        "\n",
        "#change with your API key\n",
        "api_key = '' #replace with a valid API key\n",
        "youtube = build('youtube', 'v3', developerKey=api_key)\n",
        "\n",
        "from google.colab import drive\n",
        "drive.mount('/content/drive')"
      ]
    },
    {
      "cell_type": "code",
      "source": [
        "# Function to retrieve comments from a YouTube video and save them in a CSV file\n",
        "def get_comments(api_key, video_id, folder_name='data'):\n",
        "    youtube = build('youtube', 'v3', developerKey=api_key)\n",
        "\n",
        "    request = youtube.commentThreads().list(\n",
        "        part=\"snippet,replies\",\n",
        "        videoId=video_id,\n",
        "        textFormat=\"plainText\"\n",
        "    )\n",
        "\n",
        "    df = pd.DataFrame(columns=['comment', 'replies', 'date', 'user_name'])\n",
        "\n",
        "    while request:\n",
        "        replies = []\n",
        "        comments = []\n",
        "        dates = []\n",
        "        user_names = []\n",
        "\n",
        "        try:\n",
        "            response = request.execute()\n",
        "            for item in response['items']:\n",
        "                # Extracting comments\n",
        "                comment = item['snippet']['topLevelComment']['snippet']['textDisplay']\n",
        "                comments.append(comment)\n",
        "\n",
        "                user_name = item['snippet']['topLevelComment']['snippet']['authorDisplayName']\n",
        "                user_names.append(user_name)\n",
        "\n",
        "                date = item['snippet']['topLevelComment']['snippet']['publishedAt']\n",
        "                dates.append(date)\n",
        "\n",
        "                # counting number of reply of comment\n",
        "                replycount = item['snippet']['totalReplyCount']\n",
        "\n",
        "                # if reply is there\n",
        "                if replycount > 0:\n",
        "                    # append empty list to replies\n",
        "                    replies.append([])\n",
        "                    # iterate through all reply\n",
        "                    for reply in item['replies']['comments']:\n",
        "                        # Extract reply\n",
        "                        reply = reply['snippet']['textDisplay']\n",
        "                        # append reply to last element of replies\n",
        "                        replies[-1].append(reply)\n",
        "                else:\n",
        "                    replies.append([])\n",
        "\n",
        "            # create new dataframe\n",
        "            df2 = pd.DataFrame({\"comment\": comments, \"replies\": replies, \"user_name\": user_names, \"date\": dates})\n",
        "            df = pd.concat([df, df2], ignore_index=True)\n",
        "            # Save comments to a CSV file\n",
        "            os.makedirs(f\"./drive/MyDrive/youtube/{folder_name}/\", exist_ok=True)\n",
        "            df.to_csv(f\"./drive/MyDrive/youtube/{folder_name}/{video_id}_user_comments.csv\", index=False, encoding='utf-8')\n",
        "            sleep(2)\n",
        "            request = youtube.commentThreads().list_next(request, response)\n",
        "            print(\"Iterating through next page\")\n",
        "        except Exception as e:\n",
        "            print(str(e))\n",
        "            print(traceback.format_exc())\n",
        "            print(\"Sleeping for 10 seconds\")\n",
        "            sleep(10)\n",
        "            break"
      ],
      "metadata": {
        "id": "RUZ5CVSwoyXW"
      },
      "execution_count": null,
      "outputs": []
    },
    {
      "cell_type": "code",
      "source": [
        "# Function to retrieve video details (title, author, description)\n",
        "def get_video_details(youtube, video_id, df_video_details):\n",
        "    request = youtube.videos().list(\n",
        "        part=\"snippet\",\n",
        "        id=video_id\n",
        "    )\n",
        "    response = request.execute()\n",
        "\n",
        "    video_details = response['items'][0]['snippet']\n",
        "    video_title = video_details['title']\n",
        "    video_description = video_details['description']\n",
        "    video_author = video_details['channelTitle']\n",
        "\n",
        "    # Create a new DataFrame with the new row\n",
        "    new_row = pd.DataFrame({\n",
        "        'video_id': video_id,\n",
        "        'video_title': video_title,\n",
        "        'video_description': video_description,\n",
        "        'video_author': video_author\n",
        "    }, index=[0])\n",
        "\n",
        "    # Concatenate the new row with the existing DataFrame\n",
        "    df_video_details = pd.concat([df_video_details, new_row], ignore_index=True)\n",
        "\n",
        "    return df_video_details"
      ],
      "metadata": {
        "id": "cXlYgb-uo41G"
      },
      "execution_count": null,
      "outputs": []
    },
    {
      "cell_type": "code",
      "source": [
        "# Function to retrieve all video IDs from a specified YouTube channel\n",
        "def get_video_ids(youtube, channel_id):\n",
        "    request = youtube.search().list(\n",
        "        part='id',\n",
        "        channelId=channel_id,\n",
        "        maxResults=50,\n",
        "        type='video'\n",
        "    )\n",
        "    response = request.execute()\n",
        "\n",
        "    video_ids = [item['id']['videoId'] for item in response['items']]\n",
        "\n",
        "    next_page_token = response.get('nextPageToken')\n",
        "    while next_page_token:\n",
        "        request = youtube.search().list(\n",
        "            part='id',\n",
        "            channelId=channel_id,\n",
        "            maxResults=50,\n",
        "            type='video',\n",
        "            pageToken=next_page_token\n",
        "        )\n",
        "        response = request.execute()\n",
        "\n",
        "        video_ids += [item['id']['videoId'] for item in response['items']]\n",
        "        next_page_token = response.get('nextPageToken')\n",
        "\n",
        "    return video_ids"
      ],
      "metadata": {
        "id": "KZC7t25xpDZY"
      },
      "execution_count": null,
      "outputs": []
    },
    {
      "cell_type": "code",
      "source": [
        "# If you want to download all the channel's videos do this\n",
        "channel_id = '' # Change with the channel ID you need\n",
        "folder_name = ''\n",
        "ids = get_video_ids(youtube, channel_id)\n",
        "\n",
        "print(f'video ids:{ids}')\n",
        "df_video_details = pd.DataFrame(columns=['video_id', 'video_title', 'video_description', 'video_author'])\n",
        "\n",
        "# Retrieve video details and comments for each video\n",
        "for video_id in ids:\n",
        "    df_video_details = get_video_details(youtube, video_id, df_video_details)\n",
        "    get_comments(api_key, video_id, folder_name=folder_name)\n",
        "\n",
        "os.makedirs(f\"./drive/MyDrive/youtube/{folder_name}/\", exist_ok=True)\n",
        "# Save all video details in the same file\n",
        "df_video_details.to_csv(f\"./drive/MyDrive/youtube/{folder_name}/video_details.csv\", index=False, encoding='utf-8')"
      ],
      "metadata": {
        "id": "vfzwnamMpVAm"
      },
      "execution_count": null,
      "outputs": []
    },
    {
      "cell_type": "code",
      "source": [
        "# Check which videos have already been saved\n",
        "saved_videos = set()\n",
        "saved_folder = \"./drive/MyDrive/youtube/{folder_name}/\"\n",
        "if os.path.exists(saved_folder):\n",
        "    saved_files = os.listdir(saved_folder)\n",
        "    saved_videos = {file.split('.')[0] for file in saved_files}\n",
        "\n",
        "# If you want to download all the channel's videos do this\n",
        "channel_id = '' # Change with the channel ID you need\n",
        "folder_name = ''\n",
        "ids = get_video_ids(youtube, channel_id)\n",
        "\n",
        "print(f'video ids:{ids}')\n",
        "df_video_details = pd.DataFrame(columns=['video_id', 'video_title', 'video_description', 'video_author'])\n",
        "\n",
        "# Retrieve video details and comments for each video\n",
        "for video_id in ids:\n",
        "    if video_id in saved_videos:\n",
        "        print(f\"Skipping video {video_id}, already saved.\")\n",
        "        continue\n",
        "\n",
        "    df_video_details = get_video_details(youtube, video_id, df_video_details)\n",
        "    get_comments(api_key, video_id, folder_name=folder_name)\n",
        "\n",
        "os.makedirs(f\"./drive/MyDrive/youtube/{folder_name}/\", exist_ok=True)\n",
        "# Save all video details in the same file\n",
        "df_video_details.to_csv(f\"./drive/MyDrive/youtube/{folder_name}/video_details.csv\", index=False, encoding='utf-8')"
      ],
      "metadata": {
        "id": "pbm4ifdxr5NB"
      },
      "execution_count": null,
      "outputs": []
    }
  ]
}